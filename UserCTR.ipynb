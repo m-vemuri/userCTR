{
 "cells": [
  {
   "cell_type": "code",
   "execution_count": 1,
   "metadata": {},
   "outputs": [],
   "source": [
    "import pandas as pd\n",
    "pd.options.mode.chained_assignment = None \n",
    "import numpy as np\n",
    "import matplotlib.pyplot as plt"
   ]
  },
  {
   "cell_type": "code",
   "execution_count": 2,
   "metadata": {},
   "outputs": [],
   "source": [
    "fileMap = ['20130606.txt',\n",
    "          '20130607.txt',\n",
    "          '20130608.txt',\n",
    "          '20130609.txt',\n",
    "          '20130610.txt',\n",
    "          '20130611.txt',\n",
    "          '20130612.txt']\n",
    "\n",
    "\n",
    "filePath = 'data/trainingData/';\n",
    "names = ['clk.', 'conv.', 'imp.']\n",
    "\n",
    "train = [0,2,3,4,6]\n",
    "test = [1,5]\n",
    "\n",
    "trainNames = []\n",
    "testNames = []\n",
    "for i in range(len(names)):\n",
    "    for j in range(len(train)):\n",
    "         trainNames.append( filePath + names[i] + fileMap[train[j]] )\n",
    "    for j in range(len(test)):\n",
    "         testNames.append( filePath + names[i] + fileMap[test[j]] )\n",
    "    \n",
    "\n",
    "dataframes = (pd.read_csv(i, header=None, sep='\\\\t', engine='python') for i in testNames)\n",
    "testingSet = pd.concat(dataframes, ignore_index=True)"
   ]
  },
  {
   "cell_type": "code",
   "execution_count": 3,
   "metadata": {},
   "outputs": [],
   "source": [
    "dataframes = (pd.read_csv(i, header=None, sep='\\\\t', engine='python') for i in trainNames)\n",
    "combined_trainingSet = pd.concat(dataframes, ignore_index=True)"
   ]
  },
  {
   "cell_type": "code",
   "execution_count": 4,
   "metadata": {},
   "outputs": [
    {
     "data": {
      "text/html": [
       "<div>\n",
       "<style scoped>\n",
       "    .dataframe tbody tr th:only-of-type {\n",
       "        vertical-align: middle;\n",
       "    }\n",
       "\n",
       "    .dataframe tbody tr th {\n",
       "        vertical-align: top;\n",
       "    }\n",
       "\n",
       "    .dataframe thead th {\n",
       "        text-align: right;\n",
       "    }\n",
       "</style>\n",
       "<table border=\"1\" class=\"dataframe\">\n",
       "  <thead>\n",
       "    <tr style=\"text-align: right;\">\n",
       "      <th></th>\n",
       "      <th>Bid_Id</th>\n",
       "      <th>Timestamp</th>\n",
       "      <th>LogType</th>\n",
       "      <th>iPinYouId</th>\n",
       "      <th>userAgent</th>\n",
       "      <th>ip</th>\n",
       "      <th>regionId</th>\n",
       "      <th>cityId</th>\n",
       "      <th>adExchange</th>\n",
       "      <th>domain</th>\n",
       "      <th>...</th>\n",
       "      <th>adSlotFormat</th>\n",
       "      <th>adSlotFloorPrice</th>\n",
       "      <th>creativeId</th>\n",
       "      <th>biddingPrice</th>\n",
       "      <th>payingPrice</th>\n",
       "      <th>landingPageUrl</th>\n",
       "      <th>advertiserId</th>\n",
       "      <th>userProfileIds</th>\n",
       "      <th>adSlotDim</th>\n",
       "      <th>hour</th>\n",
       "    </tr>\n",
       "  </thead>\n",
       "  <tbody>\n",
       "    <tr>\n",
       "      <th>0</th>\n",
       "      <td>c7654fe86bc7f66d75242d5e12a6aad4</td>\n",
       "      <td>20130606000110312</td>\n",
       "      <td>2</td>\n",
       "      <td>Vh1OPiSeP2kfQGj</td>\n",
       "      <td>Mozilla/5.0 (Windows NT 6.1) AppleWebKit/537.1...</td>\n",
       "      <td>49.223.203.*</td>\n",
       "      <td>40</td>\n",
       "      <td>42</td>\n",
       "      <td>1</td>\n",
       "      <td>trqRTvpogNlyDok4JKTI</td>\n",
       "      <td>...</td>\n",
       "      <td>1</td>\n",
       "      <td>0</td>\n",
       "      <td>c938195f9e404b4f38c7e71bf50263e5</td>\n",
       "      <td>238</td>\n",
       "      <td>0</td>\n",
       "      <td>a3becb967c015e9acb5e72f22b100ef8</td>\n",
       "      <td>3476</td>\n",
       "      <td>10006,10063,10076,13403,10075,10110</td>\n",
       "      <td>950,90</td>\n",
       "      <td>0</td>\n",
       "    </tr>\n",
       "    <tr>\n",
       "      <th>1</th>\n",
       "      <td>82d22846bc757857f11064c60e8a0f3b</td>\n",
       "      <td>20130606000110864</td>\n",
       "      <td>2</td>\n",
       "      <td>Vh111kuiLlaWqG8</td>\n",
       "      <td>Mozilla/5.0 (Linux; U; Android 4.0.4; zh-cn; 7...</td>\n",
       "      <td>110.17.170.*</td>\n",
       "      <td>27</td>\n",
       "      <td>29</td>\n",
       "      <td>1</td>\n",
       "      <td>2h5wl5SvdNmRaqKbu-</td>\n",
       "      <td>...</td>\n",
       "      <td>1</td>\n",
       "      <td>0</td>\n",
       "      <td>d881a6c788e76c2c27ed1ef04f119544</td>\n",
       "      <td>227</td>\n",
       "      <td>0</td>\n",
       "      <td>d29e59bf0f7f8243858b8183f14d4412</td>\n",
       "      <td>3358</td>\n",
       "      <td>10006,10063,10024</td>\n",
       "      <td>300,250</td>\n",
       "      <td>0</td>\n",
       "    </tr>\n",
       "    <tr>\n",
       "      <th>2</th>\n",
       "      <td>6ad8bc340c03cbcf6a5bd1f9d20ce07d</td>\n",
       "      <td>20130606000111403</td>\n",
       "      <td>2</td>\n",
       "      <td>Vhkr1vTlOt56qfn</td>\n",
       "      <td>K-TouchC986t_TD/1.0 Android 4.0.3 Release/10.0...</td>\n",
       "      <td>183.7.247.*</td>\n",
       "      <td>216</td>\n",
       "      <td>221</td>\n",
       "      <td>1</td>\n",
       "      <td>5Sc-GxfIL5scFsf</td>\n",
       "      <td>...</td>\n",
       "      <td>1</td>\n",
       "      <td>0</td>\n",
       "      <td>ff5123fb9333ca095034c62fdaaf51aa</td>\n",
       "      <td>300</td>\n",
       "      <td>0</td>\n",
       "      <td>361e128affece850342293213691a043</td>\n",
       "      <td>3386</td>\n",
       "      <td>10063</td>\n",
       "      <td>336,280</td>\n",
       "      <td>0</td>\n",
       "    </tr>\n",
       "    <tr>\n",
       "      <th>3</th>\n",
       "      <td>22bbc00c2db42aa8a60497028845e85f</td>\n",
       "      <td>20130606000119661</td>\n",
       "      <td>2</td>\n",
       "      <td>Vh1DCnKPDvuLqOE</td>\n",
       "      <td>Mozilla/5.0 (Linux; U; Android 3.2; zh-cn; Ide...</td>\n",
       "      <td>123.144.19.*</td>\n",
       "      <td>275</td>\n",
       "      <td>275</td>\n",
       "      <td>1</td>\n",
       "      <td>trqRTu1uGTdUgNK4wJB</td>\n",
       "      <td>...</td>\n",
       "      <td>5</td>\n",
       "      <td>0</td>\n",
       "      <td>d881a6c788e76c2c27ed1ef04f119544</td>\n",
       "      <td>227</td>\n",
       "      <td>0</td>\n",
       "      <td>d29e59bf0f7f8243858b8183f14d4412</td>\n",
       "      <td>3358</td>\n",
       "      <td>13042,10063,10052,11423,13866,10111</td>\n",
       "      <td>300,250</td>\n",
       "      <td>0</td>\n",
       "    </tr>\n",
       "    <tr>\n",
       "      <th>4</th>\n",
       "      <td>47e7c5523cbda762a7c00e0c47c41993</td>\n",
       "      <td>20130606000120463</td>\n",
       "      <td>2</td>\n",
       "      <td>Vhk7ZApCP4BWjgk</td>\n",
       "      <td>MQQBrowser/43 Mozilla/5.0 (iPhone 5ATT; CPU iP...</td>\n",
       "      <td>14.212.204.*</td>\n",
       "      <td>216</td>\n",
       "      <td>222</td>\n",
       "      <td>1</td>\n",
       "      <td>erdbexb0gI5RgsxfU11_qxMzmw</td>\n",
       "      <td>...</td>\n",
       "      <td>5</td>\n",
       "      <td>0</td>\n",
       "      <td>00fccc64a1ee2809348509b7ac2a97a5</td>\n",
       "      <td>227</td>\n",
       "      <td>0</td>\n",
       "      <td>b2e35064f3549d447edbbdfb1f707c8c</td>\n",
       "      <td>3427</td>\n",
       "      <td>NaN</td>\n",
       "      <td>300,250</td>\n",
       "      <td>0</td>\n",
       "    </tr>\n",
       "  </tbody>\n",
       "</table>\n",
       "<p>5 rows × 26 columns</p>\n",
       "</div>"
      ],
      "text/plain": [
       "                             Bid_Id          Timestamp  LogType  \\\n",
       "0  c7654fe86bc7f66d75242d5e12a6aad4  20130606000110312        2   \n",
       "1  82d22846bc757857f11064c60e8a0f3b  20130606000110864        2   \n",
       "2  6ad8bc340c03cbcf6a5bd1f9d20ce07d  20130606000111403        2   \n",
       "3  22bbc00c2db42aa8a60497028845e85f  20130606000119661        2   \n",
       "4  47e7c5523cbda762a7c00e0c47c41993  20130606000120463        2   \n",
       "\n",
       "         iPinYouId                                          userAgent  \\\n",
       "0  Vh1OPiSeP2kfQGj  Mozilla/5.0 (Windows NT 6.1) AppleWebKit/537.1...   \n",
       "1  Vh111kuiLlaWqG8  Mozilla/5.0 (Linux; U; Android 4.0.4; zh-cn; 7...   \n",
       "2  Vhkr1vTlOt56qfn  K-TouchC986t_TD/1.0 Android 4.0.3 Release/10.0...   \n",
       "3  Vh1DCnKPDvuLqOE  Mozilla/5.0 (Linux; U; Android 3.2; zh-cn; Ide...   \n",
       "4  Vhk7ZApCP4BWjgk  MQQBrowser/43 Mozilla/5.0 (iPhone 5ATT; CPU iP...   \n",
       "\n",
       "             ip  regionId  cityId  adExchange                      domain  \\\n",
       "0  49.223.203.*        40      42           1        trqRTvpogNlyDok4JKTI   \n",
       "1  110.17.170.*        27      29           1          2h5wl5SvdNmRaqKbu-   \n",
       "2   183.7.247.*       216     221           1             5Sc-GxfIL5scFsf   \n",
       "3  123.144.19.*       275     275           1         trqRTu1uGTdUgNK4wJB   \n",
       "4  14.212.204.*       216     222           1  erdbexb0gI5RgsxfU11_qxMzmw   \n",
       "\n",
       "   ...  adSlotFormat  adSlotFloorPrice                        creativeId  \\\n",
       "0  ...             1                 0  c938195f9e404b4f38c7e71bf50263e5   \n",
       "1  ...             1                 0  d881a6c788e76c2c27ed1ef04f119544   \n",
       "2  ...             1                 0  ff5123fb9333ca095034c62fdaaf51aa   \n",
       "3  ...             5                 0  d881a6c788e76c2c27ed1ef04f119544   \n",
       "4  ...             5                 0  00fccc64a1ee2809348509b7ac2a97a5   \n",
       "\n",
       "   biddingPrice  payingPrice                    landingPageUrl  advertiserId  \\\n",
       "0           238            0  a3becb967c015e9acb5e72f22b100ef8          3476   \n",
       "1           227            0  d29e59bf0f7f8243858b8183f14d4412          3358   \n",
       "2           300            0  361e128affece850342293213691a043          3386   \n",
       "3           227            0  d29e59bf0f7f8243858b8183f14d4412          3358   \n",
       "4           227            0  b2e35064f3549d447edbbdfb1f707c8c          3427   \n",
       "\n",
       "                        userProfileIds adSlotDim  hour  \n",
       "0  10006,10063,10076,13403,10075,10110    950,90     0  \n",
       "1                    10006,10063,10024   300,250     0  \n",
       "2                                10063   336,280     0  \n",
       "3  13042,10063,10052,11423,13866,10111   300,250     0  \n",
       "4                                  NaN   300,250     0  \n",
       "\n",
       "[5 rows x 26 columns]"
      ]
     },
     "execution_count": 4,
     "metadata": {},
     "output_type": "execute_result"
    }
   ],
   "source": [
    "combined_trainingSet.columns=[\"Bid_Id\", \"Timestamp\", \"LogType\", \"iPinYouId\", \"userAgent\", \"ip\", \"regionId\", \"cityId\", \"adExchange\", \"domain\", \"url\", \"anonymousUrl\", \"adSlotId\", \"adSlotWidth\", \"adSlotHeight\", \"adSlotVisibility\", \"adSlotFormat\", \"adSlotFloorPrice\", \"creativeId\", \"biddingPrice\", \"payingPrice\", \"landingPageUrl\", \"advertiserId\", \"userProfileIds\"]\n",
    "testingSet.columns=[\"Bid_Id\", \"Timestamp\", \"LogType\", \"iPinYouId\", \"userAgent\", \"ip\", \"regionId\", \"cityId\", \"adExchange\", \"domain\", \"url\", \"anonymousUrl\", \"adSlotId\", \"adSlotWidth\", \"adSlotHeight\", \"adSlotVisibility\", \"adSlotFormat\", \"adSlotFloorPrice\", \"creativeId\", \"biddingPrice\", \"payingPrice\", \"landingPageUrl\", \"advertiserId\", \"userProfileIds\"]\n",
    "testingSet[\"adSlotDim\"]=testingSet[\"adSlotWidth\"].astype(str) + ',' + testingSet[\"adSlotHeight\"].astype(str)\n",
    "combined_trainingSet[\"adSlotDim\"]=combined_trainingSet[\"adSlotWidth\"].astype(str) + ',' + combined_trainingSet[\"adSlotHeight\"].astype(str)\n",
    "\n",
    "testingSet[\"hour\"]=testingSet[\"Timestamp\"].astype(int) % 1000000000 // 10000000\n",
    "combined_trainingSet[\"hour\"]=combined_trainingSet[\"Timestamp\"].astype(int) % 1000000000 // 10000000\n",
    "combined_trainingSet.head()"
   ]
  },
  {
   "cell_type": "code",
   "execution_count": 5,
   "metadata": {},
   "outputs": [],
   "source": [
    "combinedDim = pd.concat([combined_trainingSet.adSlotDim, testingSet.adSlotDim])\n",
    "dimUnique = combinedDim.unique()\n",
    "combinedLanding = pd.concat([combined_trainingSet.landingPageUrl, testingSet.landingPageUrl])\n",
    "landingUnique = combinedLanding.unique()"
   ]
  },
  {
   "cell_type": "code",
   "execution_count": 6,
   "metadata": {},
   "outputs": [
    {
     "data": {
      "image/png": "[encoded data removed]",
      "text/plain": [
       "<Figure size 432x288 with 1 Axes>"
      ]
     },
     "metadata": {},
     "output_type": "display_data"
    }
   ],
   "source": [
    "pd.crosstab(combined_trainingSet.hour, combined_trainingSet.LogType).plot(kind='bar')\n",
    "plt.title('Click Count By Hour')\n",
    "plt.xlabel('Hour')\n",
    "plt.ylabel('click count')\n",
    "plt.savefig('clickCountByHour')"
   ]
  },
  {
   "cell_type": "code",
   "execution_count": 7,
   "metadata": {},
   "outputs": [
    {
     "data": {
      "image/png": "[encoded data removed]",
      "text/plain": [
       "<Figure size 432x288 with 1 Axes>"
      ]
     },
     "metadata": {},
     "output_type": "display_data"
    }
   ],
   "source": [
    "pd.crosstab(combined_trainingSet.regionId, combined_trainingSet.LogType).plot(kind='bar')\n",
    "plt.title('Click Count By Region Id')\n",
    "plt.xlabel('region Id')\n",
    "plt.ylabel('click count')\n",
    "plt.savefig('clickCountByRegionId')"
   ]
  },
  {
   "cell_type": "code",
   "execution_count": 8,
   "metadata": {},
   "outputs": [
    {
     "data": {
      "image/png": "[encoded data removed]",
      "text/plain": [
       "<Figure size 432x288 with 1 Axes>"
      ]
     },
     "metadata": {},
     "output_type": "display_data"
    }
   ],
   "source": [
    "pd.crosstab(combined_trainingSet.cityId, combined_trainingSet.LogType).plot(kind='bar')\n",
    "plt.title('Click Count By City Id')\n",
    "plt.xlabel('city Id')\n",
    "plt.ylabel('click count')\n",
    "plt.savefig('clickCountByCityId')"
   ]
  },
  {
   "cell_type": "code",
   "execution_count": 9,
   "metadata": {
    "scrolled": true
   },
   "outputs": [
    {
     "data": {
      "image/png": "[encoded data removed]",
      "text/plain": [
       "<Figure size 432x288 with 1 Axes>"
      ]
     },
     "metadata": {},
     "output_type": "display_data"
    }
   ],
   "source": [
    "pd.crosstab(combined_trainingSet.adExchange, combined_trainingSet.LogType).plot(kind='bar')\n",
    "plt.title('Click Count By adExchange')\n",
    "plt.xlabel('adExchange')\n",
    "plt.ylabel('click count')\n",
    "plt.savefig('clickCountByadExchange')"
   ]
  },
  {
   "cell_type": "code",
   "execution_count": 10,
   "metadata": {},
   "outputs": [
    {
     "data": {
      "image/png": "[encoded data removed]",
      "text/plain": [
       "<Figure size 432x288 with 1 Axes>"
      ]
     },
     "metadata": {},
     "output_type": "display_data"
    }
   ],
   "source": [
    "pd.crosstab([combined_trainingSet.adSlotWidth, combined_trainingSet.adSlotHeight], combined_trainingSet.LogType).plot(kind='bar')\n",
    "plt.title('Click Count By adSlot dim')\n",
    "plt.xlabel('adSlot dim')\n",
    "plt.ylabel('click count')\n",
    "plt.savefig('clickCountByadSlotDim')"
   ]
  },
  {
   "cell_type": "markdown",
   "metadata": {},
   "source": [
    "### Ad slot visibility \n",
    "Ad Slot Visibility Column represent whether the ad slot is above the fold (1), below the fold (2), or unknown (0). "
   ]
  },
  {
   "cell_type": "code",
   "execution_count": 11,
   "metadata": {},
   "outputs": [
    {
     "data": {
      "image/png": "[encoded data removed]",
      "text/plain": [
       "<Figure size 432x288 with 1 Axes>"
      ]
     },
     "metadata": {},
     "output_type": "display_data"
    }
   ],
   "source": [
    "pd.crosstab(combined_trainingSet.adSlotVisibility, combined_trainingSet.LogType).plot(kind='bar')\n",
    "plt.title('Click Count By adSlotVisibility')\n",
    "plt.xlabel('adSlotVisibility')\n",
    "plt.ylabel('click count')\n",
    "plt.savefig('clickCountByadSlotVisibility')\n"
   ]
  },
  {
   "cell_type": "markdown",
   "metadata": {},
   "source": [
    "### Ad Slot Format\n",
    "Ad slot format is either fixed ad slot (1) or the popup window (2)."
   ]
  },
  {
   "cell_type": "code",
   "execution_count": 12,
   "metadata": {},
   "outputs": [
    {
     "data": {
      "image/png": "[encoded data removed]",
      "text/plain": [
       "<Figure size 432x288 with 1 Axes>"
      ]
     },
     "metadata": {},
     "output_type": "display_data"
    }
   ],
   "source": [
    "pd.crosstab(combined_trainingSet.adSlotFormat, combined_trainingSet.LogType).plot(kind='bar')\n",
    "plt.title('Click Count By adSlotFormat')\n",
    "plt.xlabel('adSlotFormat')\n",
    "plt.ylabel('click count')\n",
    "plt.savefig('clickCountByadSlotFormat')"
   ]
  },
  {
   "cell_type": "code",
   "execution_count": 13,
   "metadata": {},
   "outputs": [
    {
     "data": {
      "image/png": "[encoded data removed]",
      "text/plain": [
       "<Figure size 432x288 with 1 Axes>"
      ]
     },
     "metadata": {},
     "output_type": "display_data"
    }
   ],
   "source": [
    "pd.crosstab(combined_trainingSet.landingPageUrl, combined_trainingSet.LogType).plot(kind='bar')\n",
    "plt.title('Click Count By landingPageUrl')\n",
    "plt.xlabel('landingPageUrl')\n",
    "plt.ylabel('click count')\n",
    "plt.savefig('clickCountBylandingPageUrl')"
   ]
  },
  {
   "cell_type": "code",
   "execution_count": 14,
   "metadata": {},
   "outputs": [
    {
     "data": {
      "image/png": "[encoded data removed]",
      "text/plain": [
       "<Figure size 432x288 with 1 Axes>"
      ]
     },
     "metadata": {},
     "output_type": "display_data"
    }
   ],
   "source": [
    "pd.crosstab(combined_trainingSet.advertiserId, combined_trainingSet.LogType).plot(kind='bar')\n",
    "plt.title('Click Count By advertiserId')\n",
    "plt.xlabel('advertiserId')\n",
    "plt.ylabel('click count')\n",
    "plt.savefig('clickCountByadvertiserId')"
   ]
  },
  {
   "cell_type": "code",
   "execution_count": 15,
   "metadata": {},
   "outputs": [
    {
     "data": {
      "text/html": [
       "<div>\n",
       "<style scoped>\n",
       "    .dataframe tbody tr th:only-of-type {\n",
       "        vertical-align: middle;\n",
       "    }\n",
       "\n",
       "    .dataframe tbody tr th {\n",
       "        vertical-align: top;\n",
       "    }\n",
       "\n",
       "    .dataframe thead th {\n",
       "        text-align: right;\n",
       "    }\n",
       "</style>\n",
       "<table border=\"1\" class=\"dataframe\">\n",
       "  <thead>\n",
       "    <tr style=\"text-align: right;\">\n",
       "      <th></th>\n",
       "      <th>userProfileId</th>\n",
       "      <th>userProfileName</th>\n",
       "    </tr>\n",
       "  </thead>\n",
       "  <tbody>\n",
       "    <tr>\n",
       "      <th>0</th>\n",
       "      <td>10006</td>\n",
       "      <td>Long-term interest/news</td>\n",
       "    </tr>\n",
       "    <tr>\n",
       "      <th>1</th>\n",
       "      <td>10024</td>\n",
       "      <td>Long-term interest/eduation</td>\n",
       "    </tr>\n",
       "    <tr>\n",
       "      <th>2</th>\n",
       "      <td>10031</td>\n",
       "      <td>Long-term interest/automobile</td>\n",
       "    </tr>\n",
       "    <tr>\n",
       "      <th>3</th>\n",
       "      <td>10048</td>\n",
       "      <td>Long-term interest/real estate</td>\n",
       "    </tr>\n",
       "    <tr>\n",
       "      <th>4</th>\n",
       "      <td>10052</td>\n",
       "      <td>Long-term interest/IT</td>\n",
       "    </tr>\n",
       "    <tr>\n",
       "      <th>5</th>\n",
       "      <td>10057</td>\n",
       "      <td>Long-term interest/electronic game</td>\n",
       "    </tr>\n",
       "    <tr>\n",
       "      <th>6</th>\n",
       "      <td>10059</td>\n",
       "      <td>Long-term interest/fashion</td>\n",
       "    </tr>\n",
       "    <tr>\n",
       "      <th>7</th>\n",
       "      <td>10063</td>\n",
       "      <td>Long-term interest/entertainment</td>\n",
       "    </tr>\n",
       "    <tr>\n",
       "      <th>8</th>\n",
       "      <td>10067</td>\n",
       "      <td>Long-term interest/luxury</td>\n",
       "    </tr>\n",
       "    <tr>\n",
       "      <th>9</th>\n",
       "      <td>10074</td>\n",
       "      <td>Long-term interest/home and lifestyle</td>\n",
       "    </tr>\n",
       "    <tr>\n",
       "      <th>10</th>\n",
       "      <td>10075</td>\n",
       "      <td>Long-term interest/health</td>\n",
       "    </tr>\n",
       "    <tr>\n",
       "      <th>11</th>\n",
       "      <td>10076</td>\n",
       "      <td>Long-term interest/food</td>\n",
       "    </tr>\n",
       "    <tr>\n",
       "      <th>12</th>\n",
       "      <td>10077</td>\n",
       "      <td>Long-term interest/divine</td>\n",
       "    </tr>\n",
       "    <tr>\n",
       "      <th>13</th>\n",
       "      <td>10079</td>\n",
       "      <td>Long-term interest/motherhood&amp;parenting</td>\n",
       "    </tr>\n",
       "    <tr>\n",
       "      <th>14</th>\n",
       "      <td>10083</td>\n",
       "      <td>Long-term interest/sports</td>\n",
       "    </tr>\n",
       "    <tr>\n",
       "      <th>15</th>\n",
       "      <td>10093</td>\n",
       "      <td>Long-term interest/travel&amp;outdoors</td>\n",
       "    </tr>\n",
       "    <tr>\n",
       "      <th>16</th>\n",
       "      <td>10102</td>\n",
       "      <td>Long-term interest/social</td>\n",
       "    </tr>\n",
       "    <tr>\n",
       "      <th>17</th>\n",
       "      <td>10684</td>\n",
       "      <td>In-market/3c product</td>\n",
       "    </tr>\n",
       "    <tr>\n",
       "      <th>18</th>\n",
       "      <td>11092</td>\n",
       "      <td>In-market/appliances</td>\n",
       "    </tr>\n",
       "    <tr>\n",
       "      <th>19</th>\n",
       "      <td>11278</td>\n",
       "      <td>In-market/clothing、shoes&amp;bags</td>\n",
       "    </tr>\n",
       "    <tr>\n",
       "      <th>20</th>\n",
       "      <td>11379</td>\n",
       "      <td>In-market/Beauty&amp; Personal Care</td>\n",
       "    </tr>\n",
       "    <tr>\n",
       "      <th>21</th>\n",
       "      <td>11423</td>\n",
       "      <td>In-market/household&amp;home improvement</td>\n",
       "    </tr>\n",
       "    <tr>\n",
       "      <th>22</th>\n",
       "      <td>11512</td>\n",
       "      <td>In-market/infant&amp;mom products</td>\n",
       "    </tr>\n",
       "    <tr>\n",
       "      <th>23</th>\n",
       "      <td>11576</td>\n",
       "      <td>In-market/sports item</td>\n",
       "    </tr>\n",
       "    <tr>\n",
       "      <th>24</th>\n",
       "      <td>11632</td>\n",
       "      <td>In-market/outdoor</td>\n",
       "    </tr>\n",
       "    <tr>\n",
       "      <th>25</th>\n",
       "      <td>11680</td>\n",
       "      <td>In-market/health care products</td>\n",
       "    </tr>\n",
       "    <tr>\n",
       "      <th>26</th>\n",
       "      <td>11724</td>\n",
       "      <td>In-market/luxury</td>\n",
       "    </tr>\n",
       "    <tr>\n",
       "      <th>27</th>\n",
       "      <td>11944</td>\n",
       "      <td>In-market/real estate</td>\n",
       "    </tr>\n",
       "    <tr>\n",
       "      <th>28</th>\n",
       "      <td>13042</td>\n",
       "      <td>In-market/automobile</td>\n",
       "    </tr>\n",
       "    <tr>\n",
       "      <th>29</th>\n",
       "      <td>13403</td>\n",
       "      <td>In-market/finance</td>\n",
       "    </tr>\n",
       "    <tr>\n",
       "      <th>30</th>\n",
       "      <td>13496</td>\n",
       "      <td>In-market/travel</td>\n",
       "    </tr>\n",
       "    <tr>\n",
       "      <th>31</th>\n",
       "      <td>13678</td>\n",
       "      <td>In-market/education</td>\n",
       "    </tr>\n",
       "    <tr>\n",
       "      <th>32</th>\n",
       "      <td>13776</td>\n",
       "      <td>In-market/service</td>\n",
       "    </tr>\n",
       "    <tr>\n",
       "      <th>33</th>\n",
       "      <td>13800</td>\n",
       "      <td>Long-term interest/art&amp;photography&amp;design</td>\n",
       "    </tr>\n",
       "    <tr>\n",
       "      <th>34</th>\n",
       "      <td>13866</td>\n",
       "      <td>Long-term interest/online literature</td>\n",
       "    </tr>\n",
       "    <tr>\n",
       "      <th>35</th>\n",
       "      <td>13874</td>\n",
       "      <td>In-market/electronic game</td>\n",
       "    </tr>\n",
       "    <tr>\n",
       "      <th>36</th>\n",
       "      <td>14273</td>\n",
       "      <td>Long-term interest/3c</td>\n",
       "    </tr>\n",
       "    <tr>\n",
       "      <th>37</th>\n",
       "      <td>16593</td>\n",
       "      <td>In-market/book</td>\n",
       "    </tr>\n",
       "    <tr>\n",
       "      <th>38</th>\n",
       "      <td>16617</td>\n",
       "      <td>In-market/medicine</td>\n",
       "    </tr>\n",
       "    <tr>\n",
       "      <th>39</th>\n",
       "      <td>16661</td>\n",
       "      <td>In-market/food&amp;drink</td>\n",
       "    </tr>\n",
       "    <tr>\n",
       "      <th>40</th>\n",
       "      <td>16706</td>\n",
       "      <td>Long-term interest/culture</td>\n",
       "    </tr>\n",
       "    <tr>\n",
       "      <th>41</th>\n",
       "      <td>16751</td>\n",
       "      <td>Long-term interest/sex</td>\n",
       "    </tr>\n",
       "    <tr>\n",
       "      <th>42</th>\n",
       "      <td>10110</td>\n",
       "      <td>Demographic/gender/male</td>\n",
       "    </tr>\n",
       "    <tr>\n",
       "      <th>43</th>\n",
       "      <td>10111</td>\n",
       "      <td>Demographic/gender/famale</td>\n",
       "    </tr>\n",
       "  </tbody>\n",
       "</table>\n",
       "</div>"
      ],
      "text/plain": [
       "    userProfileId                            userProfileName\n",
       "0           10006                    Long-term interest/news\n",
       "1           10024                Long-term interest/eduation\n",
       "2           10031              Long-term interest/automobile\n",
       "3           10048             Long-term interest/real estate\n",
       "4           10052                      Long-term interest/IT\n",
       "5           10057         Long-term interest/electronic game\n",
       "6           10059                 Long-term interest/fashion\n",
       "7           10063           Long-term interest/entertainment\n",
       "8           10067                  Long-term interest/luxury\n",
       "9           10074      Long-term interest/home and lifestyle\n",
       "10          10075                  Long-term interest/health\n",
       "11          10076                    Long-term interest/food\n",
       "12          10077                  Long-term interest/divine\n",
       "13          10079    Long-term interest/motherhood&parenting\n",
       "14          10083                  Long-term interest/sports\n",
       "15          10093         Long-term interest/travel&outdoors\n",
       "16          10102                  Long-term interest/social\n",
       "17          10684                       In-market/3c product\n",
       "18          11092                       In-market/appliances\n",
       "19          11278              In-market/clothing、shoes&bags\n",
       "20          11379            In-market/Beauty& Personal Care\n",
       "21          11423       In-market/household&home improvement\n",
       "22          11512              In-market/infant&mom products\n",
       "23          11576                      In-market/sports item\n",
       "24          11632                          In-market/outdoor\n",
       "25          11680             In-market/health care products\n",
       "26          11724                           In-market/luxury\n",
       "27          11944                      In-market/real estate\n",
       "28          13042                       In-market/automobile\n",
       "29          13403                          In-market/finance\n",
       "30          13496                           In-market/travel\n",
       "31          13678                        In-market/education\n",
       "32          13776                          In-market/service\n",
       "33          13800  Long-term interest/art&photography&design\n",
       "34          13866       Long-term interest/online literature\n",
       "35          13874                  In-market/electronic game\n",
       "36          14273                      Long-term interest/3c\n",
       "37          16593                             In-market/book\n",
       "38          16617                         In-market/medicine\n",
       "39          16661                       In-market/food&drink\n",
       "40          16706                 Long-term interest/culture\n",
       "41          16751                     Long-term interest/sex\n",
       "42          10110                    Demographic/gender/male\n",
       "43          10111                  Demographic/gender/famale"
      ]
     },
     "execution_count": 15,
     "metadata": {},
     "output_type": "execute_result"
    }
   ],
   "source": [
    "userProfileMapping = pd.read_csv('data/user.profile.tags.en.txt', header=None, sep='\\\\t', engine='python')\n",
    "userProfileMapping.columns = [\"userProfileId\", \"userProfileName\"]\n",
    "userProfileMapping"
   ]
  },
  {
   "cell_type": "code",
   "execution_count": 16,
   "metadata": {},
   "outputs": [],
   "source": [
    "userProfileDict = {}\n",
    "for index,record in userProfileMapping.iterrows():\n",
    "    userProfileDict[record['userProfileId']] = record['userProfileName']"
   ]
  },
  {
   "cell_type": "code",
   "execution_count": 17,
   "metadata": {},
   "outputs": [],
   "source": [
    "userProfileDf = pd.DataFrame({},columns = userProfileMapping.userProfileName.values)\n",
    "otherColumns = pd.DataFrame({},columns=[\"regionId\", \"cityId\", \"adExchange\", \"adSlotDimension\", \"adSlotVisibility\", \"adSlotFormat\",\"landingPageURL\", \"advertiserId\", \"logType\", \"hour\"])\n",
    "trainingData = pd.concat([userProfileDf,otherColumns], sort=True)"
   ]
  },
  {
   "cell_type": "code",
   "execution_count": 18,
   "metadata": {},
   "outputs": [
    {
     "data": {
      "text/plain": [
       "{'950,90': 0,\n",
       " '300,250': 1,\n",
       " '336,280': 2,\n",
       " '1000,90': 3,\n",
       " '728,90': 4,\n",
       " '250,250': 5,\n",
       " '160,600': 6,\n",
       " '960,90': 7,\n",
       " '468,60': 8,\n",
       " '200,200': 9,\n",
       " '910,90': 10,\n",
       " '120,600': 11,\n",
       " '360,300': 12,\n",
       " '300,300': 13}"
      ]
     },
     "execution_count": 18,
     "metadata": {},
     "output_type": "execute_result"
    }
   ],
   "source": [
    "adSlotDict = {}\n",
    "for i in range(len(dimUnique)):\n",
    "     adSlotDict[dimUnique[i]] = i\n",
    "adSlotDict"
   ]
  },
  {
   "cell_type": "code",
   "execution_count": 19,
   "metadata": {},
   "outputs": [
    {
     "data": {
      "text/plain": [
       "{'a3becb967c015e9acb5e72f22b100ef8': 0,\n",
       " 'd29e59bf0f7f8243858b8183f14d4412': 1,\n",
       " '361e128affece850342293213691a043': 2,\n",
       " 'b2e35064f3549d447edbbdfb1f707c8c': 3,\n",
       " 'c8758e8658b05bc3a88af7b37bdf0575': 4,\n",
       " 'bebefa5efe83beee17a3d245e7c5085b': 5,\n",
       " 'a5d0bde104fea52ea466c77b37948424': 6,\n",
       " '9be83422522025c09a44593ecd1af8ca': 7,\n",
       " '43f4a37f42a7c5e6219e2601b26c6976': 8,\n",
       " 'd4fc4aa65f6670f7fea6862f27084fbc': 9,\n",
       " 'f4a09c06b67d0fcce088ee6e86ca052a': 10,\n",
       " 'a8f8eeaae5c1e2e9924328e78d9925a5': 11,\n",
       " 'aa4976c67db0f076c563a29f6697928b': 12,\n",
       " '4f8e1c55abc204c2c8f1296dbc223af3': 13,\n",
       " '7e0e909ea89f707bc20f9585c9072081': 14,\n",
       " '15b749127478946f161a54dc0dad27c8': 15,\n",
       " '0f951a030abdaedd733ee8d114ce2944': 16,\n",
       " 'd41d8cd98f00b204e9800998ecf8427e': 17}"
      ]
     },
     "execution_count": 19,
     "metadata": {},
     "output_type": "execute_result"
    }
   ],
   "source": [
    "landingDict = {}\n",
    "for i in range(len(landingUnique)):\n",
    "     landingDict[landingUnique[i]] = i\n",
    "landingDict"
   ]
  },
  {
   "cell_type": "code",
   "execution_count": 20,
   "metadata": {},
   "outputs": [
    {
     "data": {
      "text/html": [
       "<div>\n",
       "<style scoped>\n",
       "    .dataframe tbody tr th:only-of-type {\n",
       "        vertical-align: middle;\n",
       "    }\n",
       "\n",
       "    .dataframe tbody tr th {\n",
       "        vertical-align: top;\n",
       "    }\n",
       "\n",
       "    .dataframe thead th {\n",
       "        text-align: right;\n",
       "    }\n",
       "</style>\n",
       "<table border=\"1\" class=\"dataframe\">\n",
       "  <thead>\n",
       "    <tr style=\"text-align: right;\">\n",
       "      <th></th>\n",
       "      <th>Demographic/gender/famale</th>\n",
       "      <th>Demographic/gender/male</th>\n",
       "      <th>In-market/3c product</th>\n",
       "      <th>In-market/Beauty&amp; Personal Care</th>\n",
       "      <th>In-market/appliances</th>\n",
       "      <th>In-market/automobile</th>\n",
       "      <th>In-market/book</th>\n",
       "      <th>In-market/clothing、shoes&amp;bags</th>\n",
       "      <th>In-market/education</th>\n",
       "      <th>In-market/electronic game</th>\n",
       "      <th>...</th>\n",
       "      <th>adExchange</th>\n",
       "      <th>adSlotDimension</th>\n",
       "      <th>adSlotFormat</th>\n",
       "      <th>adSlotVisibility</th>\n",
       "      <th>advertiserId</th>\n",
       "      <th>cityId</th>\n",
       "      <th>hour</th>\n",
       "      <th>landingPageURL</th>\n",
       "      <th>logType</th>\n",
       "      <th>regionId</th>\n",
       "    </tr>\n",
       "  </thead>\n",
       "  <tbody>\n",
       "    <tr>\n",
       "      <th>0</th>\n",
       "      <td>0</td>\n",
       "      <td>1</td>\n",
       "      <td>0</td>\n",
       "      <td>0</td>\n",
       "      <td>0</td>\n",
       "      <td>0</td>\n",
       "      <td>0</td>\n",
       "      <td>0</td>\n",
       "      <td>0</td>\n",
       "      <td>0</td>\n",
       "      <td>...</td>\n",
       "      <td>1</td>\n",
       "      <td>0</td>\n",
       "      <td>1</td>\n",
       "      <td>2</td>\n",
       "      <td>3476</td>\n",
       "      <td>42</td>\n",
       "      <td>0</td>\n",
       "      <td>0</td>\n",
       "      <td>2</td>\n",
       "      <td>40</td>\n",
       "    </tr>\n",
       "    <tr>\n",
       "      <th>1</th>\n",
       "      <td>0</td>\n",
       "      <td>0</td>\n",
       "      <td>0</td>\n",
       "      <td>0</td>\n",
       "      <td>0</td>\n",
       "      <td>0</td>\n",
       "      <td>0</td>\n",
       "      <td>0</td>\n",
       "      <td>0</td>\n",
       "      <td>0</td>\n",
       "      <td>...</td>\n",
       "      <td>1</td>\n",
       "      <td>1</td>\n",
       "      <td>1</td>\n",
       "      <td>1</td>\n",
       "      <td>3358</td>\n",
       "      <td>29</td>\n",
       "      <td>0</td>\n",
       "      <td>1</td>\n",
       "      <td>2</td>\n",
       "      <td>27</td>\n",
       "    </tr>\n",
       "    <tr>\n",
       "      <th>2</th>\n",
       "      <td>0</td>\n",
       "      <td>0</td>\n",
       "      <td>0</td>\n",
       "      <td>0</td>\n",
       "      <td>0</td>\n",
       "      <td>0</td>\n",
       "      <td>0</td>\n",
       "      <td>0</td>\n",
       "      <td>0</td>\n",
       "      <td>0</td>\n",
       "      <td>...</td>\n",
       "      <td>1</td>\n",
       "      <td>2</td>\n",
       "      <td>1</td>\n",
       "      <td>1</td>\n",
       "      <td>3386</td>\n",
       "      <td>221</td>\n",
       "      <td>0</td>\n",
       "      <td>2</td>\n",
       "      <td>2</td>\n",
       "      <td>216</td>\n",
       "    </tr>\n",
       "    <tr>\n",
       "      <th>3</th>\n",
       "      <td>1</td>\n",
       "      <td>0</td>\n",
       "      <td>0</td>\n",
       "      <td>0</td>\n",
       "      <td>0</td>\n",
       "      <td>1</td>\n",
       "      <td>0</td>\n",
       "      <td>0</td>\n",
       "      <td>0</td>\n",
       "      <td>0</td>\n",
       "      <td>...</td>\n",
       "      <td>1</td>\n",
       "      <td>1</td>\n",
       "      <td>5</td>\n",
       "      <td>1</td>\n",
       "      <td>3358</td>\n",
       "      <td>275</td>\n",
       "      <td>0</td>\n",
       "      <td>1</td>\n",
       "      <td>2</td>\n",
       "      <td>275</td>\n",
       "    </tr>\n",
       "    <tr>\n",
       "      <th>4</th>\n",
       "      <td>0</td>\n",
       "      <td>0</td>\n",
       "      <td>0</td>\n",
       "      <td>0</td>\n",
       "      <td>0</td>\n",
       "      <td>0</td>\n",
       "      <td>0</td>\n",
       "      <td>0</td>\n",
       "      <td>0</td>\n",
       "      <td>0</td>\n",
       "      <td>...</td>\n",
       "      <td>1</td>\n",
       "      <td>1</td>\n",
       "      <td>5</td>\n",
       "      <td>1</td>\n",
       "      <td>3427</td>\n",
       "      <td>222</td>\n",
       "      <td>0</td>\n",
       "      <td>3</td>\n",
       "      <td>2</td>\n",
       "      <td>216</td>\n",
       "    </tr>\n",
       "  </tbody>\n",
       "</table>\n",
       "<p>5 rows × 54 columns</p>\n",
       "</div>"
      ],
      "text/plain": [
       "  Demographic/gender/famale Demographic/gender/male In-market/3c product  \\\n",
       "0                         0                       1                    0   \n",
       "1                         0                       0                    0   \n",
       "2                         0                       0                    0   \n",
       "3                         1                       0                    0   \n",
       "4                         0                       0                    0   \n",
       "\n",
       "  In-market/Beauty& Personal Care In-market/appliances In-market/automobile  \\\n",
       "0                               0                    0                    0   \n",
       "1                               0                    0                    0   \n",
       "2                               0                    0                    0   \n",
       "3                               0                    0                    1   \n",
       "4                               0                    0                    0   \n",
       "\n",
       "  In-market/book In-market/clothing、shoes&bags In-market/education  \\\n",
       "0              0                             0                   0   \n",
       "1              0                             0                   0   \n",
       "2              0                             0                   0   \n",
       "3              0                             0                   0   \n",
       "4              0                             0                   0   \n",
       "\n",
       "  In-market/electronic game   ...    adExchange adSlotDimension adSlotFormat  \\\n",
       "0                         0   ...             1               0            1   \n",
       "1                         0   ...             1               1            1   \n",
       "2                         0   ...             1               2            1   \n",
       "3                         0   ...             1               1            5   \n",
       "4                         0   ...             1               1            5   \n",
       "\n",
       "  adSlotVisibility advertiserId cityId hour landingPageURL logType regionId  \n",
       "0                2         3476     42    0              0       2       40  \n",
       "1                1         3358     29    0              1       2       27  \n",
       "2                1         3386    221    0              2       2      216  \n",
       "3                1         3358    275    0              1       2      275  \n",
       "4                1         3427    222    0              3       2      216  \n",
       "\n",
       "[5 rows x 54 columns]"
      ]
     },
     "execution_count": 20,
     "metadata": {},
     "output_type": "execute_result"
    }
   ],
   "source": [
    "for index,record in combined_trainingSet.iterrows():\n",
    "    trainingData.loc[index]=[0,0,0,0,0,0,0,0,0,0,\n",
    "                             0,0,0,0,0,0,0,0,0,0,\n",
    "                             0,0,0,0,0,0,0,0,0,0,\n",
    "                             0,0,0,0,0,0,0,0,0,0,\n",
    "                             0,0,0,0, \n",
    "                             record[\"adExchange\"],\n",
    "                             adSlotDict[record[\"adSlotDim\"]],\n",
    "                             record[\"adSlotFormat\"],\n",
    "                             record[\"adSlotVisibility\"],\n",
    "                             record[\"advertiserId\"],\n",
    "                             record[\"cityId\"],\n",
    "                             record[\"hour\"],\n",
    "                             landingDict[record[\"landingPageUrl\"]],\n",
    "                             record[\"LogType\"],\n",
    "                             record[\"regionId\"]]\n",
    "    upIds = record.userProfileIds\n",
    "    if isinstance(upIds, str):\n",
    "        profileIds = upIds.split(\",\")\n",
    "        for id in profileIds:\n",
    "            userProfileName=userProfileDict[int(id)]\n",
    "            trainingData.iloc[index][userProfileName]=1\n",
    "\n",
    "trainingData.head()"
   ]
  },
  {
   "cell_type": "code",
   "execution_count": 21,
   "metadata": {},
   "outputs": [],
   "source": [
    "testingData = pd.DataFrame({},columns = trainingData.columns.values)"
   ]
  },
  {
   "cell_type": "code",
   "execution_count": 22,
   "metadata": {},
   "outputs": [
    {
     "data": {
      "text/html": [
       "<div>\n",
       "<style scoped>\n",
       "    .dataframe tbody tr th:only-of-type {\n",
       "        vertical-align: middle;\n",
       "    }\n",
       "\n",
       "    .dataframe tbody tr th {\n",
       "        vertical-align: top;\n",
       "    }\n",
       "\n",
       "    .dataframe thead th {\n",
       "        text-align: right;\n",
       "    }\n",
       "</style>\n",
       "<table border=\"1\" class=\"dataframe\">\n",
       "  <thead>\n",
       "    <tr style=\"text-align: right;\">\n",
       "      <th></th>\n",
       "      <th>Demographic/gender/famale</th>\n",
       "      <th>Demographic/gender/male</th>\n",
       "      <th>In-market/3c product</th>\n",
       "      <th>In-market/Beauty&amp; Personal Care</th>\n",
       "      <th>In-market/appliances</th>\n",
       "      <th>In-market/automobile</th>\n",
       "      <th>In-market/book</th>\n",
       "      <th>In-market/clothing、shoes&amp;bags</th>\n",
       "      <th>In-market/education</th>\n",
       "      <th>In-market/electronic game</th>\n",
       "      <th>...</th>\n",
       "      <th>adExchange</th>\n",
       "      <th>adSlotDimension</th>\n",
       "      <th>adSlotFormat</th>\n",
       "      <th>adSlotVisibility</th>\n",
       "      <th>advertiserId</th>\n",
       "      <th>cityId</th>\n",
       "      <th>hour</th>\n",
       "      <th>landingPageURL</th>\n",
       "      <th>logType</th>\n",
       "      <th>regionId</th>\n",
       "    </tr>\n",
       "  </thead>\n",
       "  <tbody>\n",
       "    <tr>\n",
       "      <th>0</th>\n",
       "      <td>0</td>\n",
       "      <td>0</td>\n",
       "      <td>0</td>\n",
       "      <td>0</td>\n",
       "      <td>0</td>\n",
       "      <td>0</td>\n",
       "      <td>0</td>\n",
       "      <td>0</td>\n",
       "      <td>0</td>\n",
       "      <td>0</td>\n",
       "      <td>...</td>\n",
       "      <td>2</td>\n",
       "      <td>1</td>\n",
       "      <td>0</td>\n",
       "      <td>1</td>\n",
       "      <td>3427</td>\n",
       "      <td>217</td>\n",
       "      <td>0</td>\n",
       "      <td>3</td>\n",
       "      <td>2</td>\n",
       "      <td>216</td>\n",
       "    </tr>\n",
       "    <tr>\n",
       "      <th>1</th>\n",
       "      <td>0</td>\n",
       "      <td>1</td>\n",
       "      <td>0</td>\n",
       "      <td>0</td>\n",
       "      <td>0</td>\n",
       "      <td>0</td>\n",
       "      <td>0</td>\n",
       "      <td>0</td>\n",
       "      <td>0</td>\n",
       "      <td>0</td>\n",
       "      <td>...</td>\n",
       "      <td>2</td>\n",
       "      <td>11</td>\n",
       "      <td>0</td>\n",
       "      <td>1</td>\n",
       "      <td>3386</td>\n",
       "      <td>243</td>\n",
       "      <td>0</td>\n",
       "      <td>2</td>\n",
       "      <td>2</td>\n",
       "      <td>238</td>\n",
       "    </tr>\n",
       "    <tr>\n",
       "      <th>2</th>\n",
       "      <td>0</td>\n",
       "      <td>0</td>\n",
       "      <td>0</td>\n",
       "      <td>0</td>\n",
       "      <td>0</td>\n",
       "      <td>0</td>\n",
       "      <td>0</td>\n",
       "      <td>0</td>\n",
       "      <td>0</td>\n",
       "      <td>0</td>\n",
       "      <td>...</td>\n",
       "      <td>2</td>\n",
       "      <td>9</td>\n",
       "      <td>0</td>\n",
       "      <td>1</td>\n",
       "      <td>3358</td>\n",
       "      <td>228</td>\n",
       "      <td>0</td>\n",
       "      <td>1</td>\n",
       "      <td>2</td>\n",
       "      <td>216</td>\n",
       "    </tr>\n",
       "    <tr>\n",
       "      <th>3</th>\n",
       "      <td>0</td>\n",
       "      <td>1</td>\n",
       "      <td>0</td>\n",
       "      <td>0</td>\n",
       "      <td>0</td>\n",
       "      <td>0</td>\n",
       "      <td>0</td>\n",
       "      <td>0</td>\n",
       "      <td>0</td>\n",
       "      <td>0</td>\n",
       "      <td>...</td>\n",
       "      <td>2</td>\n",
       "      <td>6</td>\n",
       "      <td>0</td>\n",
       "      <td>2</td>\n",
       "      <td>1458</td>\n",
       "      <td>83</td>\n",
       "      <td>0</td>\n",
       "      <td>5</td>\n",
       "      <td>2</td>\n",
       "      <td>80</td>\n",
       "    </tr>\n",
       "    <tr>\n",
       "      <th>4</th>\n",
       "      <td>0</td>\n",
       "      <td>0</td>\n",
       "      <td>0</td>\n",
       "      <td>0</td>\n",
       "      <td>0</td>\n",
       "      <td>0</td>\n",
       "      <td>0</td>\n",
       "      <td>0</td>\n",
       "      <td>0</td>\n",
       "      <td>0</td>\n",
       "      <td>...</td>\n",
       "      <td>2</td>\n",
       "      <td>1</td>\n",
       "      <td>0</td>\n",
       "      <td>1</td>\n",
       "      <td>3427</td>\n",
       "      <td>41</td>\n",
       "      <td>0</td>\n",
       "      <td>3</td>\n",
       "      <td>2</td>\n",
       "      <td>40</td>\n",
       "    </tr>\n",
       "  </tbody>\n",
       "</table>\n",
       "<p>5 rows × 54 columns</p>\n",
       "</div>"
      ],
      "text/plain": [
       "  Demographic/gender/famale Demographic/gender/male In-market/3c product  \\\n",
       "0                         0                       0                    0   \n",
       "1                         0                       1                    0   \n",
       "2                         0                       0                    0   \n",
       "3                         0                       1                    0   \n",
       "4                         0                       0                    0   \n",
       "\n",
       "  In-market/Beauty& Personal Care In-market/appliances In-market/automobile  \\\n",
       "0                               0                    0                    0   \n",
       "1                               0                    0                    0   \n",
       "2                               0                    0                    0   \n",
       "3                               0                    0                    0   \n",
       "4                               0                    0                    0   \n",
       "\n",
       "  In-market/book In-market/clothing、shoes&bags In-market/education  \\\n",
       "0              0                             0                   0   \n",
       "1              0                             0                   0   \n",
       "2              0                             0                   0   \n",
       "3              0                             0                   0   \n",
       "4              0                             0                   0   \n",
       "\n",
       "  In-market/electronic game   ...    adExchange adSlotDimension adSlotFormat  \\\n",
       "0                         0   ...             2               1            0   \n",
       "1                         0   ...             2              11            0   \n",
       "2                         0   ...             2               9            0   \n",
       "3                         0   ...             2               6            0   \n",
       "4                         0   ...             2               1            0   \n",
       "\n",
       "  adSlotVisibility advertiserId cityId hour landingPageURL logType regionId  \n",
       "0                1         3427    217    0              3       2      216  \n",
       "1                1         3386    243    0              2       2      238  \n",
       "2                1         3358    228    0              1       2      216  \n",
       "3                2         1458     83    0              5       2       80  \n",
       "4                1         3427     41    0              3       2       40  \n",
       "\n",
       "[5 rows x 54 columns]"
      ]
     },
     "execution_count": 22,
     "metadata": {},
     "output_type": "execute_result"
    }
   ],
   "source": [
    "for index,record in testingSet.iterrows():\n",
    "    testingData.loc[index]=[0,0,0,0,0,0,0,0,0,0,\n",
    "                             0,0,0,0,0,0,0,0,0,0,\n",
    "                             0,0,0,0,0,0,0,0,0,0,\n",
    "                             0,0,0,0,0,0,0,0,0,0,\n",
    "                             0,0,0,0, \n",
    "                             record[\"adExchange\"],\n",
    "                             adSlotDict[record[\"adSlotDim\"]],\n",
    "                             record[\"adSlotFormat\"],\n",
    "                             record[\"adSlotVisibility\"],\n",
    "                             record[\"advertiserId\"],\n",
    "                             record[\"cityId\"],\n",
    "                             record[\"hour\"],\n",
    "                             landingDict[record[\"landingPageUrl\"]],\n",
    "                             record[\"LogType\"],\n",
    "                             record[\"regionId\"]]\n",
    "    upIds = record.userProfileIds\n",
    "    if isinstance(upIds, str):\n",
    "        profileIds = upIds.split(\",\")\n",
    "        for id in profileIds:\n",
    "            if int(id) in userProfileDict.keys():\n",
    "                userProfileName=userProfileDict[int(id)]\n",
    "                testingData.iloc[index][userProfileName]=1\n",
    "\n",
    "testingData.head()"
   ]
  },
  {
   "cell_type": "markdown",
   "metadata": {},
   "source": [
    "### Training Data"
   ]
  },
  {
   "cell_type": "code",
   "execution_count": 23,
   "metadata": {},
   "outputs": [],
   "source": [
    "yTrain = trainingData[['logType']]\n",
    "yTrain = np.ravel(yTrain)\n",
    "yTrain = yTrain.astype('int')\n",
    "xTrain = trainingData.copy()\n",
    "xTrain = trainingData.drop(columns=['logType'])"
   ]
  },
  {
   "cell_type": "markdown",
   "metadata": {},
   "source": [
    "### Testing Data"
   ]
  },
  {
   "cell_type": "code",
   "execution_count": 24,
   "metadata": {},
   "outputs": [],
   "source": [
    "yTest = testingData[['logType']]\n",
    "yTest = np.ravel(yTest)\n",
    "yTest = yTest.astype('int')\n",
    "xTest = testingData.copy()\n",
    "xTest = testingData.drop(columns=['logType'])"
   ]
  },
  {
   "cell_type": "markdown",
   "metadata": {},
   "source": [
    "### Logistic Regression"
   ]
  },
  {
   "cell_type": "markdown",
   "metadata": {},
   "source": [
    "#### Model Fitting"
   ]
  },
  {
   "cell_type": "code",
   "execution_count": 25,
   "metadata": {},
   "outputs": [
    {
     "data": {
      "text/plain": [
       "LogisticRegression(C=1.0, class_weight=None, dual=False, fit_intercept=True,\n",
       "          intercept_scaling=1, max_iter=100, multi_class='ovr', n_jobs=1,\n",
       "          penalty='l2', random_state=None, solver='liblinear', tol=0.0001,\n",
       "          verbose=0, warm_start=False)"
      ]
     },
     "execution_count": 25,
     "metadata": {},
     "output_type": "execute_result"
    }
   ],
   "source": [
    "from sklearn.linear_model import LogisticRegression\n",
    "clf = LogisticRegression()\n",
    "clf.fit(xTrain, yTrain)"
   ]
  },
  {
   "cell_type": "markdown",
   "metadata": {},
   "source": [
    "#### Prediction "
   ]
  },
  {
   "cell_type": "code",
   "execution_count": 26,
   "metadata": {},
   "outputs": [],
   "source": [
    "yPred = clf.predict(xTest)"
   ]
  },
  {
   "cell_type": "markdown",
   "metadata": {},
   "source": [
    "#### Metrics"
   ]
  },
  {
   "cell_type": "code",
   "execution_count": 27,
   "metadata": {},
   "outputs": [
    {
     "name": "stdout",
     "output_type": "stream",
     "text": [
      "Logistic Regression Accuracy score: 0.8831247476786436\n"
     ]
    }
   ],
   "source": [
    "from sklearn.metrics import accuracy_score\n",
    "accuracy = accuracy_score(yTest, yPred)\n",
    "print(\"Logistic Regression Accuracy score:\", accuracy)"
   ]
  },
  {
   "cell_type": "markdown",
   "metadata": {},
   "source": [
    "#### Probability For Logistic Regression Test Values"
   ]
  },
  {
   "cell_type": "code",
   "execution_count": 28,
   "metadata": {},
   "outputs": [
    {
     "data": {
      "text/plain": [
       "array([[0.89111182, 0.10888818],\n",
       "       [0.92450487, 0.07549513],\n",
       "       [0.90057016, 0.09942984],\n",
       "       ...,\n",
       "       [0.84375121, 0.15624879],\n",
       "       [0.85067322, 0.14932678],\n",
       "       [0.8574104 , 0.1425896 ]])"
      ]
     },
     "execution_count": 28,
     "metadata": {},
     "output_type": "execute_result"
    }
   ],
   "source": [
    "yProb = clf.predict_proba(xTest)\n",
    "yProb"
   ]
  },
  {
   "cell_type": "markdown",
   "metadata": {},
   "source": [
    "#### Confusion Matrix"
   ]
  },
  {
   "cell_type": "code",
   "execution_count": 29,
   "metadata": {},
   "outputs": [],
   "source": [
    "import itertools\n",
    "from sklearn.metrics import confusion_matrix\n",
    "\n",
    "def plot_confusion_matrix(cm, classes,\n",
    "                          normalize=False,\n",
    "                          title='Confusion matrix',\n",
    "                          cmap=plt.cm.Blues):\n",
    "    \"\"\"\n",
    "    This function prints and plots the confusion matrix.\n",
    "    Normalization can be applied by setting `normalize=True`.\n",
    "    \"\"\"\n",
    "    if normalize:\n",
    "        cm = cm.astype('float') / cm.sum(axis=1)[:, np.newaxis]\n",
    "        print(\"Normalized confusion matrix\")\n",
    "    else:\n",
    "        print('Confusion matrix, without normalization')\n",
    "\n",
    "    plt.imshow(cm, interpolation='nearest', cmap=cmap)\n",
    "    plt.title(title)\n",
    "    plt.colorbar()\n",
    "    tick_marks = np.arange(len(classes))\n",
    "    plt.xticks(tick_marks, classes, rotation=45)\n",
    "    plt.yticks(tick_marks, classes)\n",
    "\n",
    "    fmt = '.2f' if normalize else 'd'\n",
    "    thresh = cm.max() / 2.\n",
    "    for i, j in itertools.product(range(cm.shape[0]), range(cm.shape[1])):\n",
    "        plt.text(j, i, format(cm[i, j], fmt),\n",
    "                 horizontalalignment=\"center\",\n",
    "                 color=\"white\" if cm[i, j] > thresh else \"black\")\n",
    "\n",
    "    plt.tight_layout()\n",
    "    plt.ylabel('True label')\n",
    "    plt.xlabel('Predicted label')"
   ]
  },
  {
   "cell_type": "markdown",
   "metadata": {},
   "source": [
    "#### Logistic Regression Confusion Matrix "
   ]
  },
  {
   "cell_type": "code",
   "execution_count": 30,
   "metadata": {
    "scrolled": true
   },
   "outputs": [
    {
     "name": "stdout",
     "output_type": "stream",
     "text": [
      "Confusion matrix, without normalization\n"
     ]
    },
    {
     "data": {
      "image/png": "[encoded data removed]",
      "text/plain": [
       "<Figure size 432x288 with 2 Axes>"
      ]
     },
     "metadata": {},
     "output_type": "display_data"
    }
   ],
   "source": [
    "from sklearn.metrics import confusion_matrix\n",
    "confusion_matrix = confusion_matrix(yTest, yPred)\n",
    "plot_confusion_matrix(confusion_matrix, classes=['1','2'], normalize=False,\n",
    "                      title='Normalized confusion matrix')\n",
    "plt.show()"
   ]
  },
  {
   "cell_type": "markdown",
   "metadata": {},
   "source": [
    "### Decision Tree"
   ]
  },
  {
   "cell_type": "markdown",
   "metadata": {},
   "source": [
    "#### Model Fitting"
   ]
  },
  {
   "cell_type": "code",
   "execution_count": 31,
   "metadata": {},
   "outputs": [
    {
     "data": {
      "text/plain": [
       "DecisionTreeClassifier(class_weight=None, criterion='gini', max_depth=None,\n",
       "            max_features=None, max_leaf_nodes=None,\n",
       "            min_impurity_decrease=0.0, min_impurity_split=None,\n",
       "            min_samples_leaf=1, min_samples_split=2,\n",
       "            min_weight_fraction_leaf=0.0, presort=False, random_state=None,\n",
       "            splitter='best')"
      ]
     },
     "execution_count": 31,
     "metadata": {},
     "output_type": "execute_result"
    }
   ],
   "source": [
    "from sklearn.tree import DecisionTreeClassifier  \n",
    "classifier = DecisionTreeClassifier()  \n",
    "classifier.fit(xTrain, yTrain) "
   ]
  },
  {
   "cell_type": "markdown",
   "metadata": {},
   "source": [
    "#### Prediction "
   ]
  },
  {
   "cell_type": "code",
   "execution_count": 32,
   "metadata": {},
   "outputs": [],
   "source": [
    "yPredDecisionTree = classifier.predict(xTest)"
   ]
  },
  {
   "cell_type": "markdown",
   "metadata": {},
   "source": [
    "#### Metrics"
   ]
  },
  {
   "cell_type": "code",
   "execution_count": 33,
   "metadata": {
    "scrolled": false
   },
   "outputs": [
    {
     "name": "stdout",
     "output_type": "stream",
     "text": [
      "Decision Tree Accuracy score: 0.835553761270354\n",
      "Decision Tree Mean Absolute Error: 0.1644462387296461\n",
      "Decision Tree Mean Squared Error: 0.1644462387296461\n",
      "Decision Tree Root Mean Squared Error: 0.4055197143538722\n"
     ]
    }
   ],
   "source": [
    "from sklearn.metrics import accuracy_score\n",
    "from sklearn import metrics  \n",
    "accuracyDecisionTree = accuracy_score(yTest, yPredDecisionTree)\n",
    "print(\"Decision Tree Accuracy score:\", accuracyDecisionTree)\n",
    "print('Decision Tree Mean Absolute Error:', metrics.mean_absolute_error(yTest, yPredDecisionTree))  \n",
    "print('Decision Tree Mean Squared Error:', metrics.mean_squared_error(yTest, yPredDecisionTree))  \n",
    "print('Decision Tree Root Mean Squared Error:', np.sqrt(metrics.mean_squared_error(yTest, yPredDecisionTree)))  "
   ]
  },
  {
   "cell_type": "markdown",
   "metadata": {},
   "source": [
    "#### Probability of Prediction"
   ]
  },
  {
   "cell_type": "code",
   "execution_count": 65,
   "metadata": {},
   "outputs": [
    {
     "data": {
      "text/plain": [
       "array([[0.        , 1.        ],\n",
       "       [0.33333333, 0.66666667],\n",
       "       [0.5       , 0.5       ],\n",
       "       [0.66666667, 0.33333333],\n",
       "       [1.        , 0.        ]])"
      ]
     },
     "execution_count": 65,
     "metadata": {},
     "output_type": "execute_result"
    }
   ],
   "source": [
    "yProb = classifier.predict_proba(xTest)\n",
    "unique_rows = np.unique(yProb, axis=0)\n",
    "#yProb[:,0].unique\n",
    "unique_rows"
   ]
  },
  {
   "cell_type": "markdown",
   "metadata": {},
   "source": [
    "#### Decision Tree Confusion Matrix "
   ]
  },
  {
   "cell_type": "code",
   "execution_count": 38,
   "metadata": {},
   "outputs": [
    {
     "name": "stdout",
     "output_type": "stream",
     "text": [
      "Confusion matrix, without normalization\n"
     ]
    },
    {
     "data": {
      "image/png": "[encoded data removed]",
      "text/plain": [
       "<Figure size 432x288 with 2 Axes>"
      ]
     },
     "metadata": {},
     "output_type": "display_data"
    }
   ],
   "source": [
    "from sklearn.metrics import confusion_matrix\n",
    "confusion_matrix = confusion_matrix(yTest, yPredDecisionTree)\n",
    "plot_confusion_matrix(confusion_matrix, classes=['1','2'], normalize=False,\n",
    "                      title='Normalized confusion matrix')\n",
    "plt.show()"
   ]
  },
  {
   "cell_type": "code",
   "execution_count": 74,
   "metadata": {},
   "outputs": [],
   "source": [
    "def visualize_tree(tree, feature_names):\n",
    "    \"\"\"Create tree png using graphviz.\n",
    "\n",
    "    Args\n",
    "    ----\n",
    "    tree -- scikit-learn DecsisionTree.\n",
    "    feature_names -- list of feature names.\n",
    "    \"\"\"\n",
    "    with open(\"dt.dot\", 'w') as f:\n",
    "        export_graphviz(tree, out_file=f,\n",
    "                        feature_names=feature_names)\n",
    "\n",
    "    command = [\"dot\", \"-Tpng\", \"dt.dot\", \"-o\", \"dt.png\"]\n",
    "    try:\n",
    "        subprocess.check_call(command)\n",
    "    except:\n",
    "        exit(\"Could not run dot, ie graphviz, to \"\n",
    "             \"produce visualization\")"
   ]
  },
  {
   "cell_type": "code",
   "execution_count": 75,
   "metadata": {},
   "outputs": [],
   "source": [
    "from sklearn.tree import DecisionTreeClassifier, export_graphviz\n",
    "visualize_tree(classifier, xTrain.columns)\n",
    "\n",
    "# after this command runs:\n",
    "# brew install graphviz\n",
    "# dot -Tpdf dt.dot -o decisionTree.pdf"
   ]
  },
  {
   "cell_type": "markdown",
   "metadata": {},
   "source": [
    "### Gradient Boost"
   ]
  },
  {
   "cell_type": "markdown",
   "metadata": {},
   "source": [
    "#### Model Fitting"
   ]
  },
  {
   "cell_type": "code",
   "execution_count": 34,
   "metadata": {},
   "outputs": [
    {
     "data": {
      "text/plain": [
       "GradientBoostingClassifier(criterion='friedman_mse', init=None,\n",
       "              learning_rate=0.05, loss='deviance', max_depth=3,\n",
       "              max_features=None, max_leaf_nodes=None,\n",
       "              min_impurity_decrease=0.0, min_impurity_split=None,\n",
       "              min_samples_leaf=1, min_samples_split=2,\n",
       "              min_weight_fraction_leaf=0.0, n_estimators=1200,\n",
       "              presort='auto', random_state=3, subsample=0.5, verbose=0,\n",
       "              warm_start=False)"
      ]
     },
     "execution_count": 34,
     "metadata": {},
     "output_type": "execute_result"
    }
   ],
   "source": [
    "from sklearn import ensemble\n",
    "params = {'n_estimators': 1200, 'max_depth': 3, 'subsample': 0.5,\n",
    "          'learning_rate': 0.05, 'min_samples_leaf': 1, 'random_state': 3}\n",
    "gbclf = ensemble.GradientBoostingClassifier(**params)\n",
    "gbclf.fit(xTrain, yTrain)"
   ]
  },
  {
   "cell_type": "markdown",
   "metadata": {},
   "source": [
    "#### Prediction "
   ]
  },
  {
   "cell_type": "code",
   "execution_count": 35,
   "metadata": {},
   "outputs": [],
   "source": [
    "yPredGradientBoosting = gbclf.predict(xTest)"
   ]
  },
  {
   "cell_type": "markdown",
   "metadata": {},
   "source": [
    "#### Metrics"
   ]
  },
  {
   "cell_type": "code",
   "execution_count": 36,
   "metadata": {
    "scrolled": false
   },
   "outputs": [
    {
     "name": "stdout",
     "output_type": "stream",
     "text": [
      "Gradient Boosting Accuracy score: 0.8909298883057462\n"
     ]
    }
   ],
   "source": [
    "accuracyGradientBoosting = accuracy_score(yTest, yPredGradientBoosting)\n",
    "print(\"Gradient Boosting Accuracy score:\", accuracyGradientBoosting)"
   ]
  },
  {
   "cell_type": "markdown",
   "metadata": {},
   "source": [
    "#### Probability of Prediction"
   ]
  },
  {
   "cell_type": "code",
   "execution_count": 46,
   "metadata": {},
   "outputs": [
    {
     "data": {
      "text/plain": [
       "array([[0.78493121, 0.21506879],\n",
       "       [0.83980033, 0.16019967],\n",
       "       [0.98037928, 0.01962072],\n",
       "       ...,\n",
       "       [0.73616043, 0.26383957],\n",
       "       [0.97538605, 0.02461395],\n",
       "       [0.83913355, 0.16086645]])"
      ]
     },
     "execution_count": 46,
     "metadata": {},
     "output_type": "execute_result"
    }
   ],
   "source": [
    "yProb = gbclf.predict_proba(xTest)\n",
    "yProb"
   ]
  },
  {
   "cell_type": "markdown",
   "metadata": {},
   "source": [
    "#### Gradient Boosting Confusion Matrix "
   ]
  },
  {
   "cell_type": "code",
   "execution_count": 39,
   "metadata": {},
   "outputs": [
    {
     "name": "stdout",
     "output_type": "stream",
     "text": [
      "Confusion matrix, without normalization\n"
     ]
    },
    {
     "data": {
      "image/png": "[encoded data removed]",
      "text/plain": [
       "<Figure size 432x288 with 2 Axes>"
      ]
     },
     "metadata": {},
     "output_type": "display_data"
    }
   ],
   "source": [
    "from sklearn.metrics import confusion_matrix\n",
    "confusion_matrix = confusion_matrix(yTest, yPredGradientBoosting)\n",
    "plot_confusion_matrix(confusion_matrix, classes=['1','2'], normalize=False,\n",
    "                      title='Normalized confusion matrix')\n",
    "plt.show()"
   ]
  },
  {
   "cell_type": "markdown",
   "metadata": {},
   "source": [
    "### Top coefficients"
   ]
  },
  {
   "cell_type": "markdown",
   "metadata": {},
   "source": [
    "#### Logistic Regression"
   ]
  },
  {
   "cell_type": "code",
   "execution_count": 133,
   "metadata": {},
   "outputs": [
    {
     "data": {
      "text/html": [
       "<div>\n",
       "<style scoped>\n",
       "    .dataframe tbody tr th:only-of-type {\n",
       "        vertical-align: middle;\n",
       "    }\n",
       "\n",
       "    .dataframe tbody tr th {\n",
       "        vertical-align: top;\n",
       "    }\n",
       "\n",
       "    .dataframe thead th {\n",
       "        text-align: right;\n",
       "    }\n",
       "</style>\n",
       "<table border=\"1\" class=\"dataframe\">\n",
       "  <thead>\n",
       "    <tr style=\"text-align: right;\">\n",
       "      <th></th>\n",
       "      <th>coef</th>\n",
       "      <th>vectors</th>\n",
       "      <th>default</th>\n",
       "    </tr>\n",
       "  </thead>\n",
       "  <tbody>\n",
       "    <tr>\n",
       "      <th>7</th>\n",
       "      <td>326.682297</td>\n",
       "      <td>In-market/clothing、shoes&amp;bags</td>\n",
       "      <td>0</td>\n",
       "    </tr>\n",
       "    <tr>\n",
       "      <th>5</th>\n",
       "      <td>41.855441</td>\n",
       "      <td>In-market/automobile</td>\n",
       "      <td>0</td>\n",
       "    </tr>\n",
       "    <tr>\n",
       "      <th>2</th>\n",
       "      <td>28.408696</td>\n",
       "      <td>In-market/3c product</td>\n",
       "      <td>0</td>\n",
       "    </tr>\n",
       "    <tr>\n",
       "      <th>46</th>\n",
       "      <td>1.826257</td>\n",
       "      <td>adSlotFormat</td>\n",
       "      <td>0</td>\n",
       "    </tr>\n",
       "    <tr>\n",
       "      <th>44</th>\n",
       "      <td>1.507131</td>\n",
       "      <td>adExchange</td>\n",
       "      <td>1</td>\n",
       "    </tr>\n",
       "    <tr>\n",
       "      <th>11</th>\n",
       "      <td>1.401312</td>\n",
       "      <td>In-market/food&amp;drink</td>\n",
       "      <td>0</td>\n",
       "    </tr>\n",
       "    <tr>\n",
       "      <th>3</th>\n",
       "      <td>1.382195</td>\n",
       "      <td>In-market/Beauty&amp; Personal Care</td>\n",
       "      <td>0</td>\n",
       "    </tr>\n",
       "    <tr>\n",
       "      <th>23</th>\n",
       "      <td>1.353840</td>\n",
       "      <td>Long-term interest/IT</td>\n",
       "      <td>0</td>\n",
       "    </tr>\n",
       "    <tr>\n",
       "      <th>9</th>\n",
       "      <td>1.215326</td>\n",
       "      <td>In-market/electronic game</td>\n",
       "      <td>0</td>\n",
       "    </tr>\n",
       "    <tr>\n",
       "      <th>13</th>\n",
       "      <td>1.206584</td>\n",
       "      <td>In-market/household&amp;home improvement</td>\n",
       "      <td>0</td>\n",
       "    </tr>\n",
       "    <tr>\n",
       "      <th>33</th>\n",
       "      <td>1.122354</td>\n",
       "      <td>Long-term interest/health</td>\n",
       "      <td>0</td>\n",
       "    </tr>\n",
       "    <tr>\n",
       "      <th>0</th>\n",
       "      <td>1.081031</td>\n",
       "      <td>Demographic/gender/famale</td>\n",
       "      <td>0</td>\n",
       "    </tr>\n",
       "    <tr>\n",
       "      <th>10</th>\n",
       "      <td>1.074707</td>\n",
       "      <td>In-market/finance</td>\n",
       "      <td>0</td>\n",
       "    </tr>\n",
       "    <tr>\n",
       "      <th>27</th>\n",
       "      <td>1.071715</td>\n",
       "      <td>Long-term interest/divine</td>\n",
       "      <td>0</td>\n",
       "    </tr>\n",
       "    <tr>\n",
       "      <th>29</th>\n",
       "      <td>1.057104</td>\n",
       "      <td>Long-term interest/electronic game</td>\n",
       "      <td>0</td>\n",
       "    </tr>\n",
       "    <tr>\n",
       "      <th>28</th>\n",
       "      <td>1.055424</td>\n",
       "      <td>Long-term interest/eduation</td>\n",
       "      <td>0</td>\n",
       "    </tr>\n",
       "    <tr>\n",
       "      <th>36</th>\n",
       "      <td>1.047913</td>\n",
       "      <td>Long-term interest/motherhood&amp;parenting</td>\n",
       "      <td>0</td>\n",
       "    </tr>\n",
       "    <tr>\n",
       "      <th>16</th>\n",
       "      <td>1.035726</td>\n",
       "      <td>In-market/medicine</td>\n",
       "      <td>0</td>\n",
       "    </tr>\n",
       "    <tr>\n",
       "      <th>19</th>\n",
       "      <td>1.033422</td>\n",
       "      <td>In-market/service</td>\n",
       "      <td>0</td>\n",
       "    </tr>\n",
       "    <tr>\n",
       "      <th>6</th>\n",
       "      <td>1.018538</td>\n",
       "      <td>In-market/book</td>\n",
       "      <td>0</td>\n",
       "    </tr>\n",
       "    <tr>\n",
       "      <th>12</th>\n",
       "      <td>1.014382</td>\n",
       "      <td>In-market/health care products</td>\n",
       "      <td>0</td>\n",
       "    </tr>\n",
       "    <tr>\n",
       "      <th>50</th>\n",
       "      <td>1.009198</td>\n",
       "      <td>hour</td>\n",
       "      <td>0</td>\n",
       "    </tr>\n",
       "    <tr>\n",
       "      <th>52</th>\n",
       "      <td>1.004329</td>\n",
       "      <td>regionId</td>\n",
       "      <td>216</td>\n",
       "    </tr>\n",
       "    <tr>\n",
       "      <th>21</th>\n",
       "      <td>1.001859</td>\n",
       "      <td>In-market/travel</td>\n",
       "      <td>0</td>\n",
       "    </tr>\n",
       "    <tr>\n",
       "      <th>48</th>\n",
       "      <td>1.000299</td>\n",
       "      <td>advertiserId</td>\n",
       "      <td>1458</td>\n",
       "    </tr>\n",
       "    <tr>\n",
       "      <th>14</th>\n",
       "      <td>1.000000</td>\n",
       "      <td>In-market/infant&amp;mom products</td>\n",
       "      <td>0</td>\n",
       "    </tr>\n",
       "    <tr>\n",
       "      <th>40</th>\n",
       "      <td>1.000000</td>\n",
       "      <td>Long-term interest/sex</td>\n",
       "      <td>0</td>\n",
       "    </tr>\n",
       "    <tr>\n",
       "      <th>17</th>\n",
       "      <td>0.999592</td>\n",
       "      <td>In-market/outdoor</td>\n",
       "      <td>0</td>\n",
       "    </tr>\n",
       "    <tr>\n",
       "      <th>47</th>\n",
       "      <td>0.999346</td>\n",
       "      <td>adSlotVisibility</td>\n",
       "      <td>0</td>\n",
       "    </tr>\n",
       "    <tr>\n",
       "      <th>49</th>\n",
       "      <td>0.995042</td>\n",
       "      <td>cityId</td>\n",
       "      <td>1</td>\n",
       "    </tr>\n",
       "    <tr>\n",
       "      <th>1</th>\n",
       "      <td>0.963793</td>\n",
       "      <td>Demographic/gender/male</td>\n",
       "      <td>0</td>\n",
       "    </tr>\n",
       "    <tr>\n",
       "      <th>51</th>\n",
       "      <td>0.955300</td>\n",
       "      <td>landingPageURL</td>\n",
       "      <td>5</td>\n",
       "    </tr>\n",
       "    <tr>\n",
       "      <th>26</th>\n",
       "      <td>0.953437</td>\n",
       "      <td>Long-term interest/culture</td>\n",
       "      <td>0</td>\n",
       "    </tr>\n",
       "    <tr>\n",
       "      <th>45</th>\n",
       "      <td>0.949957</td>\n",
       "      <td>adSlotDimension</td>\n",
       "      <td>3</td>\n",
       "    </tr>\n",
       "    <tr>\n",
       "      <th>15</th>\n",
       "      <td>0.938983</td>\n",
       "      <td>In-market/luxury</td>\n",
       "      <td>0</td>\n",
       "    </tr>\n",
       "    <tr>\n",
       "      <th>43</th>\n",
       "      <td>0.931916</td>\n",
       "      <td>Long-term interest/travel&amp;outdoors</td>\n",
       "      <td>0</td>\n",
       "    </tr>\n",
       "    <tr>\n",
       "      <th>42</th>\n",
       "      <td>0.892580</td>\n",
       "      <td>Long-term interest/sports</td>\n",
       "      <td>0</td>\n",
       "    </tr>\n",
       "    <tr>\n",
       "      <th>41</th>\n",
       "      <td>0.887966</td>\n",
       "      <td>Long-term interest/social</td>\n",
       "      <td>0</td>\n",
       "    </tr>\n",
       "    <tr>\n",
       "      <th>34</th>\n",
       "      <td>0.867424</td>\n",
       "      <td>Long-term interest/home and lifestyle</td>\n",
       "      <td>0</td>\n",
       "    </tr>\n",
       "    <tr>\n",
       "      <th>31</th>\n",
       "      <td>0.844775</td>\n",
       "      <td>Long-term interest/fashion</td>\n",
       "      <td>0</td>\n",
       "    </tr>\n",
       "    <tr>\n",
       "      <th>35</th>\n",
       "      <td>0.837365</td>\n",
       "      <td>Long-term interest/luxury</td>\n",
       "      <td>0</td>\n",
       "    </tr>\n",
       "    <tr>\n",
       "      <th>8</th>\n",
       "      <td>0.791454</td>\n",
       "      <td>In-market/education</td>\n",
       "      <td>0</td>\n",
       "    </tr>\n",
       "    <tr>\n",
       "      <th>20</th>\n",
       "      <td>0.782349</td>\n",
       "      <td>In-market/sports item</td>\n",
       "      <td>0</td>\n",
       "    </tr>\n",
       "    <tr>\n",
       "      <th>30</th>\n",
       "      <td>0.768396</td>\n",
       "      <td>Long-term interest/entertainment</td>\n",
       "      <td>1</td>\n",
       "    </tr>\n",
       "    <tr>\n",
       "      <th>37</th>\n",
       "      <td>0.754556</td>\n",
       "      <td>Long-term interest/news</td>\n",
       "      <td>1</td>\n",
       "    </tr>\n",
       "    <tr>\n",
       "      <th>18</th>\n",
       "      <td>0.748646</td>\n",
       "      <td>In-market/real estate</td>\n",
       "      <td>0</td>\n",
       "    </tr>\n",
       "    <tr>\n",
       "      <th>32</th>\n",
       "      <td>0.721124</td>\n",
       "      <td>Long-term interest/food</td>\n",
       "      <td>0</td>\n",
       "    </tr>\n",
       "    <tr>\n",
       "      <th>38</th>\n",
       "      <td>0.707775</td>\n",
       "      <td>Long-term interest/online literature</td>\n",
       "      <td>0</td>\n",
       "    </tr>\n",
       "    <tr>\n",
       "      <th>24</th>\n",
       "      <td>0.689171</td>\n",
       "      <td>Long-term interest/art&amp;photography&amp;design</td>\n",
       "      <td>0</td>\n",
       "    </tr>\n",
       "    <tr>\n",
       "      <th>4</th>\n",
       "      <td>0.509673</td>\n",
       "      <td>In-market/appliances</td>\n",
       "      <td>0</td>\n",
       "    </tr>\n",
       "    <tr>\n",
       "      <th>39</th>\n",
       "      <td>0.470764</td>\n",
       "      <td>Long-term interest/real estate</td>\n",
       "      <td>0</td>\n",
       "    </tr>\n",
       "    <tr>\n",
       "      <th>22</th>\n",
       "      <td>0.378589</td>\n",
       "      <td>Long-term interest/3c</td>\n",
       "      <td>0</td>\n",
       "    </tr>\n",
       "    <tr>\n",
       "      <th>25</th>\n",
       "      <td>0.117109</td>\n",
       "      <td>Long-term interest/automobile</td>\n",
       "      <td>0</td>\n",
       "    </tr>\n",
       "  </tbody>\n",
       "</table>\n",
       "</div>"
      ],
      "text/plain": [
       "          coef                                    vectors  default\n",
       "7   326.682297              In-market/clothing、shoes&bags        0\n",
       "5    41.855441                       In-market/automobile        0\n",
       "2    28.408696                       In-market/3c product        0\n",
       "46    1.826257                               adSlotFormat        0\n",
       "44    1.507131                                 adExchange        1\n",
       "11    1.401312                       In-market/food&drink        0\n",
       "3     1.382195            In-market/Beauty& Personal Care        0\n",
       "23    1.353840                      Long-term interest/IT        0\n",
       "9     1.215326                  In-market/electronic game        0\n",
       "13    1.206584       In-market/household&home improvement        0\n",
       "33    1.122354                  Long-term interest/health        0\n",
       "0     1.081031                  Demographic/gender/famale        0\n",
       "10    1.074707                          In-market/finance        0\n",
       "27    1.071715                  Long-term interest/divine        0\n",
       "29    1.057104         Long-term interest/electronic game        0\n",
       "28    1.055424                Long-term interest/eduation        0\n",
       "36    1.047913    Long-term interest/motherhood&parenting        0\n",
       "16    1.035726                         In-market/medicine        0\n",
       "19    1.033422                          In-market/service        0\n",
       "6     1.018538                             In-market/book        0\n",
       "12    1.014382             In-market/health care products        0\n",
       "50    1.009198                                       hour        0\n",
       "52    1.004329                                   regionId      216\n",
       "21    1.001859                           In-market/travel        0\n",
       "48    1.000299                               advertiserId     1458\n",
       "14    1.000000              In-market/infant&mom products        0\n",
       "40    1.000000                     Long-term interest/sex        0\n",
       "17    0.999592                          In-market/outdoor        0\n",
       "47    0.999346                           adSlotVisibility        0\n",
       "49    0.995042                                     cityId        1\n",
       "1     0.963793                    Demographic/gender/male        0\n",
       "51    0.955300                             landingPageURL        5\n",
       "26    0.953437                 Long-term interest/culture        0\n",
       "45    0.949957                            adSlotDimension        3\n",
       "15    0.938983                           In-market/luxury        0\n",
       "43    0.931916         Long-term interest/travel&outdoors        0\n",
       "42    0.892580                  Long-term interest/sports        0\n",
       "41    0.887966                  Long-term interest/social        0\n",
       "34    0.867424      Long-term interest/home and lifestyle        0\n",
       "31    0.844775                 Long-term interest/fashion        0\n",
       "35    0.837365                  Long-term interest/luxury        0\n",
       "8     0.791454                        In-market/education        0\n",
       "20    0.782349                      In-market/sports item        0\n",
       "30    0.768396           Long-term interest/entertainment        1\n",
       "37    0.754556                    Long-term interest/news        1\n",
       "18    0.748646                      In-market/real estate        0\n",
       "32    0.721124                    Long-term interest/food        0\n",
       "38    0.707775       Long-term interest/online literature        0\n",
       "24    0.689171  Long-term interest/art&photography&design        0\n",
       "4     0.509673                       In-market/appliances        0\n",
       "39    0.470764             Long-term interest/real estate        0\n",
       "22    0.378589                      Long-term interest/3c        0\n",
       "25    0.117109              Long-term interest/automobile        0"
      ]
     },
     "execution_count": 133,
     "metadata": {},
     "output_type": "execute_result"
    }
   ],
   "source": [
    "coef = np.exp(clf.coef_).tolist()\n",
    "\n",
    "b=[]\n",
    "for i in range(len(coef[0])):\n",
    "    b.append([coef[0][i]])\n",
    "df = pd.DataFrame(b, columns=['coef'])\n",
    "df['vectors']=xTest.columns\n",
    "# using the mode as default value\n",
    "df[\"default\"]=0\n",
    "df\n",
    "dfMode = xTrain.mode()\n",
    "for i in range(len(df)):\n",
    "    df[\"default\"].iloc[[i]]=dfMode.iloc[0][i]\n",
    "# df[df.columns[1:3]]\n",
    "df.sort_values(by=['coef'], ascending=False)\n",
    "\n",
    "\n"
   ]
  },
  {
   "cell_type": "code",
   "execution_count": 123,
   "metadata": {},
   "outputs": [
    {
     "data": {
      "text/plain": [
       "array([1, 3, 2], dtype=object)"
      ]
     },
     "execution_count": 123,
     "metadata": {},
     "output_type": "execute_result"
    }
   ],
   "source": [
    "xTrain.adExchange.unique()"
   ]
  },
  {
   "cell_type": "code",
   "execution_count": 124,
   "metadata": {},
   "outputs": [
    {
     "data": {
      "text/plain": [
       "array([1, 5, 0], dtype=object)"
      ]
     },
     "execution_count": 124,
     "metadata": {},
     "output_type": "execute_result"
    }
   ],
   "source": [
    "xTrain.adSlotFormat.unique()"
   ]
  },
  {
   "cell_type": "code",
   "execution_count": 127,
   "metadata": {},
   "outputs": [
    {
     "data": {
      "text/plain": [
       "array([3476, 3358, 3386, 3427, 1458], dtype=object)"
      ]
     },
     "execution_count": 127,
     "metadata": {},
     "output_type": "execute_result"
    }
   ],
   "source": [
    "xTrain.advertiserId.unique()"
   ]
  },
  {
   "cell_type": "code",
   "execution_count": null,
   "metadata": {},
   "outputs": [],
   "source": []
  }
 ],
 "metadata": {
  "kernelspec": {
   "display_name": "Python 3",
   "language": "python",
   "name": "python3"
  },
  "language_info": {
   "codemirror_mode": {
    "name": "ipython",
    "version": 3
   },
   "file_extension": ".py",
   "mimetype": "text/x-python",
   "name": "python",
   "nbconvert_exporter": "python",
   "pygments_lexer": "ipython3",
   "version": "3.6.5"
  }
 },
 "nbformat": 4,
 "nbformat_minor": 2
}
